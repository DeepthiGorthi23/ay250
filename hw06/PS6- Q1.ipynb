{
 "cells": [
  {
   "cell_type": "markdown",
   "metadata": {},
   "source": [
    "# The not-so-dwarf problem\n",
    "\n",
    "At Big Bang Nucleosynthesis, only hydrogen and helium were formed with trace amounts of lithium and beryllium. All the other elements found in the universe today were recycled from stars- either as stellar winds from the surface or during supernova explosions. Given this fact, we can compute the distribution of metals in a stellar population as a function of age; or correspondingly the distribution of stars as a function of metallicity. (analogous to a PDMF, only wrt metallicity).\n",
    "\n",
    "G-dwarfs are long lived stars, spending around 10Gyr on the main sequence. Even less massive stars would spend longer on the main sequence but they are also less luminous, so G dwarfs are convenient stars to test metallicity evolution models against.\n",
    "\n",
    "### Closed-box model\n",
    "\n",
    "You can take an analytical approach to approximating the number of stars with a given metallicity under a spherical-cow kind of model. Assuming no in-flows, no out-flows, constant IMF, instantaneous recycling of metal enriched gas and no metals to begin with; in the Milky Way you approximate the number of G-dwarf stars under $0.25Z_{\\odot}$ to be roughly half the population. Observations have shown that this fraction is only around 0.02. This discrepancy is called the *G-dwarf problem*.\n",
    "\n",
    "### Resolving the G-dwarf problem\n",
    "\n",
    "The G-dwarf \"problem\" is a blessing in disguise. It does not seem possible that galaxies are isolated systems that form stars from their own gas and evolve independently. Given this obvious assumption, the first two conditions of the closed box model are already nullified. Galaxies are interacting systems with in-flows of metal-poor gas and out-flows of metal enriched gas (though the vice versa is also seen to occur). The G-dwarf problem can be resolved easily if you also take into account that galaxies grow inside-out with mergers and mergers induce star formation. It is can also be resolved if you consider that galaxies can form from pre-enriched ISM.\n",
    "\n",
    "An interesting idea that has not yet been explored is a changing IMF. If metal enriched gas has a different IMF from pristine gas, it is possible that more low mass stars are formed from a higher metallicity environment. This would resolve the G-dwarf problem even under the closed-box model assumptions."
   ]
  }
 ],
 "metadata": {
  "anaconda-cloud": {},
  "kernelspec": {
   "display_name": "Python [conda root]",
   "language": "python",
   "name": "conda-root-py"
  },
  "language_info": {
   "codemirror_mode": {
    "name": "ipython",
    "version": 3
   },
   "file_extension": ".py",
   "mimetype": "text/x-python",
   "name": "python",
   "nbconvert_exporter": "python",
   "pygments_lexer": "ipython3",
   "version": "3.5.2"
  }
 },
 "nbformat": 4,
 "nbformat_minor": 1
}
