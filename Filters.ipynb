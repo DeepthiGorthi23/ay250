{
 "cells": [
  {
   "cell_type": "code",
   "execution_count": 1,
   "metadata": {
    "collapsed": true
   },
   "outputs": [],
   "source": [
    "%matplotlib inline\n",
    "\n",
    "import numpy as np\n",
    "import matplotlib\n",
    "import matplotlib.pyplot as plt\n",
    "import fsps\n",
    "from scipy import integrate\n",
    "from scipy.stats import norm\n",
    "import corner\n",
    "import emcee\n",
    "\n",
    "matplotlib.rcParams.update({'font.size': 18})"
   ]
  },
  {
   "cell_type": "code",
   "execution_count": null,
   "metadata": {
    "collapsed": true
   },
   "outputs": [],
   "source": [
    "csp = fsps.StellarPopulation(imf_type=2,zmet=10,sfh=1,const=1)\n",
    "wv, spec = csp.get_spectrum(tage=0.1, peraa=True)\n",
    "mask = np.where((wv<10000)&(wv>1200))"
   ]
  },
  {
   "cell_type": "code",
   "execution_count": null,
   "metadata": {
    "collapsed": true
   },
   "outputs": [],
   "source": [
    "## Overplot filters\n",
    "sdss = fsps.find_filter('sdss')\n",
    "galex = fsps.find_filter('galex')\n",
    "\n",
    "fig,ax = plt.subplots(1,1)\n",
    "ax.plot(wv[mask],spec[mask],'r',lw=2)\n",
    "ax.set_prop_cycle(cycler('color',['r','g','b','y','c','m','darkorange']))\n",
    "for i in range(np.size(sdss)):\n",
    "    f = fsps.get_filter(sdss[i])\n",
    "    ax.fill_between((f.transmission[0]*1e-4)**-1,10*f.transmission[1],label=f.name,alpha=0.1,color='gray')\n",
    "    ax.annotate(f.name[5],xy=((f.lambda_eff*1e-4)**-1,10*f.transmission[1].max()),#textcoords='offset points',\n",
    "                xytext=((f.lambda_eff*1e-4)**-1-0.07,0.2),fontsize=20,alpha=0.5)\n",
    "\n",
    "    \n",
    "for i in range(np.size(galex)):\n",
    "    f = fsps.get_filter(galex[i])\n",
    "    ax.fill_between((f.transmission[0]*1e-4)**-1,f.transmission[1]/10,label=f.name,alpha=0.1,color='gray')\n",
    "    ax.annotate(f.name,xy=((f.lambda_eff*1e-4)**-1,f.transmission[1].max()/10),#textcoords='offset points',\n",
    "                xytext=((f.lambda_eff*1e-4)**-1-0.7,0.2),fontsize=20,alpha=0.5)"
   ]
  }
 ],
 "metadata": {
  "anaconda-cloud": {},
  "kernelspec": {
   "display_name": "Python [default]",
   "language": "python",
   "name": "python3"
  },
  "language_info": {
   "codemirror_mode": {
    "name": "ipython",
    "version": 3
   },
   "file_extension": ".py",
   "mimetype": "text/x-python",
   "name": "python",
   "nbconvert_exporter": "python",
   "pygments_lexer": "ipython3",
   "version": "3.5.2"
  }
 },
 "nbformat": 4,
 "nbformat_minor": 1
}
