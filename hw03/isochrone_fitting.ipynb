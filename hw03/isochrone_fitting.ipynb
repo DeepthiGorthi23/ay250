{
 "cells": [
  {
   "cell_type": "code",
   "execution_count": 1,
   "metadata": {
    "collapsed": true
   },
   "outputs": [],
   "source": [
    "%matplotlib inline"
   ]
  },
  {
   "cell_type": "code",
   "execution_count": 2,
   "metadata": {
    "collapsed": true
   },
   "outputs": [],
   "source": [
    "import matplotlib\n",
    "import numpy as np\n",
    "import matplotlib.pyplot as plt\n",
    "import read_mist_models\n",
    "import glob\n",
    "from scipy.stats import norm"
   ]
  },
  {
   "cell_type": "code",
   "execution_count": 3,
   "metadata": {
    "collapsed": false
   },
   "outputs": [],
   "source": [
    "data = np.loadtxt('NGC6341.M92/final/REAL/NGC6341R.RDVIQ.cal.adj.zpt',usecols=(3,7),skiprows=1).T"
   ]
  },
  {
   "cell_type": "code",
   "execution_count": 4,
   "metadata": {
    "collapsed": false
   },
   "outputs": [],
   "source": [
    "# ignore that one weird data point at ~75mag in F606W-F814W. Why is it weird?\n",
    "idx = np.argmax(data[0]-data[1])\n",
    "data = np.delete(data,idx,axis=1)"
   ]
  },
  {
   "cell_type": "code",
   "execution_count": 5,
   "metadata": {
    "collapsed": false
   },
   "outputs": [
    {
     "data": {
      "text/plain": [
       "<matplotlib.text.Text at 0x7fbc2a9a0e90>"
      ]
     },
     "execution_count": 5,
     "metadata": {},
     "output_type": "execute_result"
    },
    {
     "data": {
      "image/png": "[encoded data removed]",
      "text/plain": [
       "<matplotlib.figure.Figure at 0x7fbc34d9e890>"
      ]
     },
     "metadata": {},
     "output_type": "display_data"
    }
   ],
   "source": [
    "f,ax = plt.subplots()\n",
    "ax.plot((data[0]-data[1]),data[1],'.')\n",
    "ax.set_xlabel(r'F606W-F814W')\n",
    "ax.set_ylabel(r'F814W')\n",
    "ax.set_title('NGC 6341')"
   ]
  },
  {
   "cell_type": "markdown",
   "metadata": {},
   "source": [
    "# Fitting MIST Isochrones\n",
    "\n",
    "Synthetic Photometry data can be generated using MIST at different ages and metallicities. The resolution in metallicity in the Packaged Model Grids for the required HST filters (ACS_WFC_F606W and ACS_WFC_F814W) is much lower than what we want to fit for.\n",
    "\n",
    "Using published literature, we know that M92 is an old (~14Gyr), metal poor (Fe/H ~ -2) cluster. To arrive at an age and metallicity for this cluster, it should be sufficient to iterate over values close to these predicted results. Hence, I only generated the isochrones for $-2.25 < Fe/H < -2.00$ and for $9.5< \\log{age} < 10.3$. I also used the prior knowledge that Av = 0.034 for the I-band (NED).\n",
    "\n",
    "In the following piece of code, I extracted the photometry data in the required two filters for the entire range of metallicities and ages, and put them into an accessible dictionary."
   ]
  },
  {
   "cell_type": "code",
   "execution_count": 6,
   "metadata": {
    "collapsed": false
   },
   "outputs": [
    {
     "name": "stdout",
     "output_type": "stream",
     "text": [
      "Reading in: MIST_iso_m200.iso.cmd\n",
      "Reading in: MIST_iso_m205.iso.cmd\n",
      "Reading in: MIST_iso_m210.iso.cmd\n",
      "Reading in: MIST_iso_m215.iso.cmd\n",
      "Reading in: MIST_iso_m220.iso.cmd\n",
      "Reading in: MIST_iso_m225.iso.cmd\n"
     ]
    }
   ],
   "source": [
    "isochrones = {}\n",
    "i = 0\n",
    "\n",
    "for files in np.sort(glob.glob('MIST_iso_*')):\n",
    "    z =\t2 + i*0.05\n",
    "    i+=1\n",
    "    isochrones[z] = {}\n",
    "    iso = read_mist_models.ISOCMD(files)\n",
    "\n",
    "    for age in iso.ages:\n",
    "        isochrones[z][age] = np.vstack((iso.isocmds[iso.age_index(age)]['ACS_WFC_F606W'], \n",
    "                                        iso.isocmds[iso.age_index(age)]['ACS_WFC_F814W']))"
   ]
  },
  {
   "cell_type": "markdown",
   "metadata": {
    "collapsed": true
   },
   "source": [
    "Rather than using $\\texttt{emcee}$ to fit for the age and metallicity, I decided to step through all the values. There are only 17 distinct $\\log{age}$ values and 6 distinct $Fe/H$ values, giving only 102 unique combinations."
   ]
  },
  {
   "cell_type": "code",
   "execution_count": 23,
   "metadata": {
    "collapsed": false
   },
   "outputs": [],
   "source": [
    "color = data[0]-data[1]\n",
    "mag = data[1]\n",
    "\n",
    "z = isochrones.keys()\n",
    "age = iso.ages\n",
    "D = np.arange(8,11,0.25)\n",
    "\n",
    "lsq = np.zeros([np.size(z),np.size(age),np.size(D)])\n",
    "\n",
    "for i,met in enumerate(z):\n",
    "    for j,ages in enumerate(age):\n",
    "        c = isochrones[met][ages][0] - isochrones[met][ages][1]\n",
    "        m = isochrones[met][ages][1]\n",
    "        for k,dist in enumerate(D):\n",
    "            m += -5 + 5*np.log10(dist*1e3)\n",
    "            \n",
    "            for l,x in enumerate(c):\n",
    "                ls+= ((color-x)**2 + (mag-m[l])**2).min()\n",
    "                \n",
    "            lsq[i][j][k] = ls\n",
    "\n",
    "#             if ls < deviation:\n",
    "#                 z = met\n",
    "#                 a = age\n",
    "#                 d = distance"
   ]
  },
  {
   "cell_type": "code",
   "execution_count": 25,
   "metadata": {
    "collapsed": false
   },
   "outputs": [
    {
     "data": {
      "text/plain": [
       "<matplotlib.contour.QuadContourSet at 0x7fbc2a3c3090>"
      ]
     },
     "execution_count": 25,
     "metadata": {},
     "output_type": "execute_result"
    },
    {
     "data": {
      "image/png": "[encoded data removed]",
      "text/plain": [
       "<matplotlib.figure.Figure at 0x7fbc2a6e2890>"
      ]
     },
     "metadata": {},
     "output_type": "display_data"
    }
   ],
   "source": [
    "plt.contour(lsq[0],lsq[1],lsq[2])"
   ]
  },
  {
   "cell_type": "code",
   "execution_count": null,
   "metadata": {
    "collapsed": true
   },
   "outputs": [],
   "source": []
  }
 ],
 "metadata": {
  "kernelspec": {
   "display_name": "Python 2",
   "language": "python",
   "name": "python2"
  },
  "language_info": {
   "codemirror_mode": {
    "name": "ipython",
    "version": 2
   },
   "file_extension": ".py",
   "mimetype": "text/x-python",
   "name": "python",
   "nbconvert_exporter": "python",
   "pygments_lexer": "ipython2",
   "version": "2.7.12"
  }
 },
 "nbformat": 4,
 "nbformat_minor": 0
}
